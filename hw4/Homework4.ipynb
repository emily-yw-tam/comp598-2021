{
 "cells": [
  {
   "cell_type": "markdown",
   "metadata": {},
   "source": [
    "# COMP 598 - Homework 4"
   ]
  },
  {
   "cell_type": "markdown",
   "metadata": {},
   "source": [
    "1. Download nyc_311.csv.tgz from MyCourses.\n",
    "2. Trim it down to only include the incidents that occurred in 2020.\n",
    "\n",
    "```python\n",
    "import numpy as np\n",
    "import pandas as pd\n",
    "\n",
    "# nyc_311_limit_2.csv is the nyc_311_limit.csv file with header\n",
    "filename = 'nyc_311_limit_2.csv'\n",
    "\n",
    "df = pd.read_csv(filename, usecols=[1, 2, 8, 19], low_memory=False)\n",
    "\n",
    "df_2020 = df[df['Created Date'].str.contains('2020')]\n",
    "\n",
    "# create csv file\n",
    "csv_file = df_2020.to_csv('nyc_311_4col.csv', sep=',', index=False)\n",
    "```"
   ]
  },
  {
   "cell_type": "markdown",
   "metadata": {},
   "source": [
    "## Task 1"
   ]
  },
  {
   "cell_type": "code",
   "execution_count": 1,
   "metadata": {},
   "outputs": [],
   "source": [
    "import numpy as np\n",
    "import pandas as pd\n",
    "import json"
   ]
  },
  {
   "cell_type": "code",
   "execution_count": 2,
   "metadata": {},
   "outputs": [],
   "source": [
    "# use the data file you trimmed\n",
    "def clean_data(filename='nyc_311_4col.csv'):\n",
    "\n",
    "    df = pd.read_csv(filename)\n",
    "\n",
    "    # remove rows with missing closed date or incident zip\n",
    "    df_na = df.dropna()\n",
    "\n",
    "    # keep rows where status is closed\n",
    "    df_closed = df_na.loc[df_na['Status'] == 'Closed']\n",
    "\n",
    "    df_dt = df_closed.copy()\n",
    "\n",
    "    # convert created date column to datetime format\n",
    "    df_dt['Created Date'] = pd.to_datetime(df_closed['Created Date'], format='%m/%d/%Y %I:%M:%S %p')\n",
    "\n",
    "    # convert closed date column to datetime format\n",
    "    df_dt['Closed Date'] = pd.to_datetime(df_closed['Closed Date'], format='%m/%d/%Y %I:%M:%S %p')\n",
    "\n",
    "    # if the closed date is before the open date, remove this row\n",
    "    df_clean = df_dt.loc[df_dt['Created Date'] <= df_dt['Closed Date']]\n",
    "\n",
    "    return df_clean\n",
    "\n",
    "def distinct_zipcodes(df, silent=False):\n",
    "    dzip = pd.unique(df_clean['Incident Zip'])\n",
    "    \n",
    "    # print the number of distinct zipcodes in the dataset\n",
    "    if not silent:\n",
    "        print(f'Number of distinct zipcodes: {len(dzip)}')\n",
    "    \n",
    "    return dzip\n",
    "\n",
    "def add_month(df):\n",
    "    df_m = df.copy()\n",
    "    df_m['Month'] = df['Closed Date'].dt.month\n",
    "    return df_m\n",
    "\n",
    "def add_responsetime(df):\n",
    "    df_rt = df.copy()\n",
    "    df_rt['Response Time'] = (df['Closed Date'] - df['Created Date']).dt.total_seconds()/3600\n",
    "    return df_rt\n",
    "\n",
    "# given month\n",
    "# all zipcodes\n",
    "# compute average response time for that month\n",
    "def avg_rt_all(df, month):\n",
    "    df_all = df.loc[df['Month'] == month]\n",
    "    \n",
    "    avg_rt = df_all['Response Time'].mean()\n",
    "    \n",
    "    return avg_rt\n",
    "\n",
    "# given zipcode and month\n",
    "# compute average response time\n",
    "def avg_rt_zip(df, month, zipcode):\n",
    "    df_all = df.loc[df['Month'] == month]\n",
    "    df_zip = df_all.loc[df_all['Incident Zip'] == zipcode]\n",
    "    \n",
    "    avg_rt = df_zip['Response Time'].mean()\n",
    "    \n",
    "    return avg_rt"
   ]
  },
  {
   "cell_type": "code",
   "execution_count": 3,
   "metadata": {},
   "outputs": [
    {
     "name": "stdout",
     "output_type": "stream",
     "text": [
      "Number of distinct zipcodes: 236\n"
     ]
    }
   ],
   "source": [
    "filename = 'nyc_311_4col.csv'\n",
    "df_clean = clean_data(filename)\n",
    "dzip = distinct_zipcodes(df_clean)\n",
    "df_m = add_month(df_clean)\n",
    "df_mrt = add_responsetime(df_m)\n",
    "\n",
    "dzip_f = []\n",
    "for d in dzip:\n",
    "    dzip_f.append(int(d))\n",
    "    \n",
    "dzip = dzip_f"
   ]
  },
  {
   "cell_type": "code",
   "execution_count": 4,
   "metadata": {},
   "outputs": [],
   "source": [
    "months = [1,2,3,4,5,6,7,8,9,10,11,12]\n",
    "\n",
    "# list of monthly average response time for all 2020 data\n",
    "all_data = []\n",
    "for m in months:\n",
    "    value = avg_rt_all(df_mrt, m)\n",
    "    if not np.isnan(value):\n",
    "        all_data.append(value)\n",
    "    else:\n",
    "        all_data.append(0)\n",
    "    \n",
    "# dictionary for 2020 data by zipcode\n",
    "# key = zipcode\n",
    "# value = list of monthly average response time\n",
    "zipcode_data = {}\n",
    "for d in dzip:\n",
    "    monthly_rt = []\n",
    "    \n",
    "    for m in months:\n",
    "        value = avg_rt_zip(df_mrt, m, d)\n",
    "        if not np.isnan(value):\n",
    "            monthly_rt.append(value)\n",
    "        else:\n",
    "            monthly_rt.append(0)\n",
    "        \n",
    "    zipcode_data[d] = monthly_rt"
   ]
  },
  {
   "cell_type": "code",
   "execution_count": 5,
   "metadata": {},
   "outputs": [],
   "source": [
    "data = {}\n",
    "data['all_data'] = all_data\n",
    "data['zipcode_data'] = zipcode_data\n",
    "\n",
    "dzip_sorted = sorted(dzip)\n",
    "dzip_str = []\n",
    "for d in dzip_sorted:\n",
    "    dzip_str.append(str(d))\n",
    "\n",
    "data['zipcodes'] = dzip_str\n",
    "\n",
    "with open('data.json', 'w') as json_file:\n",
    "    json.dump(data, json_file, indent=2)"
   ]
  },
  {
   "cell_type": "code",
   "execution_count": null,
   "metadata": {},
   "outputs": [],
   "source": []
  },
  {
   "cell_type": "code",
   "execution_count": null,
   "metadata": {},
   "outputs": [],
   "source": []
  }
 ],
 "metadata": {
  "kernelspec": {
   "display_name": "Python 3",
   "language": "python",
   "name": "python3"
  },
  "language_info": {
   "codemirror_mode": {
    "name": "ipython",
    "version": 3
   },
   "file_extension": ".py",
   "mimetype": "text/x-python",
   "name": "python",
   "nbconvert_exporter": "python",
   "pygments_lexer": "ipython3",
   "version": "3.8.3"
  }
 },
 "nbformat": 4,
 "nbformat_minor": 4
}
